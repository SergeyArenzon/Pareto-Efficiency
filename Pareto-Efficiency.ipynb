{
 "cells": [
  {
   "cell_type": "code",
   "execution_count": 87,
   "metadata": {},
   "outputs": [
    {
     "name": "stdout",
     "output_type": "stream",
     "text": [
      "Agent#0 gets 0.9999997435848428 of resource# 0\n",
      "Agent#1 gets 1.2779896534348427e-07 of resource# 0\n",
      "Agent#2 gets 1.2779896534348427e-07 of resource# 0\n",
      "Agent#0 gets 4.4112149454992867e-07 of resource# 1\n",
      "Agent#1 gets 0.9999991146690437 of resource# 1\n",
      "Agent#2 gets 4.4112149454992867e-07 of resource# 1\n",
      "Agent#0 gets 3.113877093841259e-07 of resource# 2\n",
      "Agent#1 gets 3.113877093841259e-07 of resource# 2\n",
      "Agent#2 gets 0.999999372693023 of resource# 2\n",
      "Agent#0 gets 0.482510064595372 of resource# 3\n",
      "Agent#1 gets 0.4670788603498705 of resource# 3\n",
      "Agent#2 gets 0.05041107207700905 of resource# 3\n"
     ]
    }
   ],
   "source": [
    "'''\n",
    "Sergey Arenzon \n",
    "    Faild to print the way you asked, but the result is equal.\n",
    "    \n",
    "'''\n",
    "\n",
    "\n",
    "\n",
    "import cvxpy\n",
    "from cvxpy import log\n",
    "\n",
    "def pareto(mat):\n",
    "    \n",
    "    for k in range(len(mat[0])):\n",
    "        val = []    \n",
    "        res = []\n",
    "        for i in range(len(mat)):\n",
    "            temp = 0        \n",
    "\n",
    "            for j in range(len(mat[0])):            \n",
    "                if(j==k):\n",
    "                    r = cvxpy.Variable()\n",
    "                    res.append(r)\n",
    "                    temp += r*mat[i][j]\n",
    "                else:\n",
    "                    temp += mat[i][j]\n",
    "\n",
    "\n",
    "            val.append(log(temp))\n",
    "\n",
    "        obj = 0\n",
    "        for i in val:\n",
    "            obj += i   \n",
    "        obj = cvxpy.Maximize(obj)\n",
    "\n",
    "\n",
    "        cons = []\n",
    "        temp_cons = 0\n",
    "\n",
    "        for i in res:\n",
    "            cons.append(0<=i)\n",
    "            cons.append(i<=1)\n",
    "            temp_cons += i\n",
    "\n",
    "        cons.append(temp_cons == 1)    \n",
    "        prob = cvxpy.Problem(obj,cons)\n",
    "        prob.solve()\n",
    "\n",
    "\n",
    "\n",
    "\n",
    "\n",
    "        count = 0\n",
    "        for i in res:\n",
    "            print(f'Agent#{count} gets {i.value} of resource# {k}')\n",
    "            count += 1\n",
    "\n",
    "\n",
    "\n",
    "mat = [[19, 0, 0, 81],\n",
    "        [0, 20, 0, 80],\n",
    "        [0, 0, 40, 60]]\n",
    "      \n",
    "\n",
    "\n",
    "pareto(mat)"
   ]
  },
  {
   "cell_type": "code",
   "execution_count": null,
   "metadata": {},
   "outputs": [],
   "source": []
  }
 ],
 "metadata": {
  "kernelspec": {
   "display_name": "Python 3",
   "language": "python",
   "name": "python3"
  },
  "language_info": {
   "codemirror_mode": {
    "name": "ipython",
    "version": 3
   },
   "file_extension": ".py",
   "mimetype": "text/x-python",
   "name": "python",
   "nbconvert_exporter": "python",
   "pygments_lexer": "ipython3",
   "version": "3.7.5rc1"
  }
 },
 "nbformat": 4,
 "nbformat_minor": 2
}
